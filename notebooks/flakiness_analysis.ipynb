{
  "nbformat": 4,
  "nbformat_minor": 0,
  "metadata": {
    "colab": {
      "provenance": []
    },
    "kernelspec": {
      "name": "python3",
      "display_name": "Python 3"
    },
    "language_info": {
      "name": "python"
    }
  },
  "cells": [
    {
      "cell_type": "markdown",
      "source": [
        "# Test Flakiness Analysis Notebook\n",
        "\n",
        "This notebook demonstrates the process of loading test execution data, identifying flaky tests based on execution time variability, and visualizing the distribution of execution times.\n"
      ],
      "metadata": {
        "id": "3qEmpXCCl9Tb"
      }
    },
    {
      "cell_type": "markdown",
      "source": [
        "# Instructions for Use\n",
        "\n",
        "- Open your Jupyter Notebook environment: Navigate to the notebooks directory within your project.\n",
        "\n",
        "- Create a new notebook: If you haven't already, name it flakiness_analysis.ipynb.\n",
        "Add content: Copy and paste each cell's content into your notebook, matching the cell types (Markdown for descriptive text, Code for Python code).\n",
        "\n",
        "- Adjust paths and parameters: Ensure the data_path variable in the data loading cell points to your actual dataset within the data folder.\n",
        "\n",
        "- Execute the notebook: Run each cell in order to perform the analysis and generate visualizations.\n",
        "\n",
        "- This setup provides a holistic view of how to perform and visualize flakiness analysis within a Jupyter Notebook, offering a practical example that aligns with your project's goals."
      ],
      "metadata": {
        "id": "XHRhuxYamf5N"
      }
    },
    {
      "cell_type": "code",
      "source": [
        "import pandas as pd\n",
        "import numpy as np\n",
        "import matplotlib.pyplot as plt"
      ],
      "metadata": {
        "id": "cC8m4kKnl-MI"
      },
      "execution_count": 1,
      "outputs": []
    },
    {
      "cell_type": "code",
      "source": [
        "# Load your test data\n",
        "data_path = '../data/performance_test_results.csv'  # Update this path to your actual data file location\n",
        "df = pd.read_csv(data_path)\n",
        "\n",
        "# Display the first few rows to confirm proper loading\n",
        "df.head()"
      ],
      "metadata": {
        "id": "4RVbcIb5mFq2"
      },
      "execution_count": null,
      "outputs": []
    },
    {
      "cell_type": "code",
      "source": [
        "# Add a simple heuristic for flakiness: High variability in execution times\n",
        "# Calculate the standard deviation of execution times for each test\n",
        "std_devs = df.groupby('TestName')['ExecutionTime'].std().reset_index()\n",
        "std_devs.rename(columns={'ExecutionTime': 'StdDev'}, inplace=True)\n",
        "\n",
        "# Merge standard deviations back into the original dataframe\n",
        "df = df.merge(std_devs, on='TestName')\n",
        "\n",
        "# Classify tests as 'flaky' based on standard deviation threshold\n",
        "flakiness_threshold = 0.5  # Define a threshold for flakiness\n",
        "df['Flaky'] = df['StdDev'].apply(lambda x: 'Yes' if x > flakiness_threshold else 'No')\n",
        "\n",
        "df.head()"
      ],
      "metadata": {
        "id": "y5zXZIZAmQNO"
      },
      "execution_count": null,
      "outputs": []
    },
    {
      "cell_type": "code",
      "source": [
        "# Visualize the execution times of tests, highlighting flaky tests\n",
        "flaky_tests = df[df['Flaky'] == 'Yes']\n",
        "stable_tests = df[df['Flaky'] == 'No']\n",
        "\n",
        "plt.figure(figsize=(10, 6))\n",
        "plt.hist(stable_tests['ExecutionTime'], bins=20, alpha=0.5, label='Stable Tests')\n",
        "plt.hist(flaky_tests['ExecutionTime'], bins=20, alpha=0.5, color='red', label='Flaky Tests')\n",
        "plt.xlabel('Execution Time (s)')\n",
        "plt.ylabel('Number of Tests')\n",
        "plt.title('Distribution of Test Execution Times')\n",
        "plt.legend()\n",
        "plt.show()"
      ],
      "metadata": {
        "id": "0hBczDozmTnN"
      },
      "execution_count": null,
      "outputs": []
    },
    {
      "cell_type": "code",
      "source": [
        "# Analyze the proportion of flaky tests\n",
        "flakiness_ratio = df['Flaky'].value_counts(normalize=True) * 100\n",
        "print(\"Flakiness Ratio:\\n\", flakiness_ratio)\n",
        "\n",
        "# Optionally, create a pie chart to visualize the ratio of flaky to stable tests\n",
        "plt.figure(figsize=(6, 6))\n",
        "plt.pie(flakiness_ratio, labels=flakiness_ratio.index, autopct='%1.1f%%', startangle=140, colors=['green', 'red'])\n",
        "plt.title('Flaky vs. Stable Tests Ratio')\n",
        "plt.show()"
      ],
      "metadata": {
        "id": "43Em23AmmWpt"
      },
      "execution_count": null,
      "outputs": []
    }
  ]
}